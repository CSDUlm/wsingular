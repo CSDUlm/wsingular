{
 "cells": [
  {
   "cell_type": "markdown",
   "source": [
    "# Sinkhorn Singular Vectors"
   ],
   "metadata": {}
  },
  {
   "cell_type": "markdown",
   "source": [
    "This Jupyter Notebook will walk you through an easy example of Sinkhorn Singular Vectors (SSV), which are the entropic regularization of Wasserstein Singular Vectors (WSV). This example is small enough to be run on CPU."
   ],
   "metadata": {}
  },
  {
   "cell_type": "markdown",
   "source": [
    "## Imports"
   ],
   "metadata": {}
  },
  {
   "cell_type": "code",
   "execution_count": 1,
   "source": [
    "import wsingular\n",
    "import torch\n",
    "import matplotlib.pyplot as plt"
   ],
   "outputs": [],
   "metadata": {}
  },
  {
   "cell_type": "markdown",
   "source": [
    "## Generate toy data"
   ],
   "metadata": {}
  },
  {
   "cell_type": "code",
   "execution_count": 2,
   "source": [
    "# Define the dtype and device to work with.\n",
    "dtype = torch.double\n",
    "device = \"cpu\""
   ],
   "outputs": [],
   "metadata": {}
  },
  {
   "cell_type": "code",
   "execution_count": 3,
   "source": [
    "# Define the dimensions of our problem.\n",
    "n_samples = 20\n",
    "n_features = 30"
   ],
   "outputs": [],
   "metadata": {}
  },
  {
   "cell_type": "code",
   "execution_count": 4,
   "source": [
    "# Initialize an empty dataset.\n",
    "dataset = torch.zeros((n_features, n_samples), dtype=dtype)\n",
    "\n",
    "# Iterate over the features and samples.\n",
    "for i in range(n_features):\n",
    "    for j in range(n_samples):\n",
    "\n",
    "        # Fill the dataset with translated histograms.\n",
    "        dataset[i, j] = i/n_features - j/n_samples\n",
    "        dataset[i, j] = torch.abs(dataset[i, j] % 1)\n",
    "\n",
    "# Take the distance to 0 on the torus.\n",
    "dataset = torch.min(dataset, 1 - dataset)\n",
    "\n",
    "# Make it a guassian.\n",
    "dataset = torch.exp(-(dataset**2) / 0.1)"
   ],
   "outputs": [],
   "metadata": {}
  },
  {
   "cell_type": "code",
   "execution_count": 5,
   "source": [
    "# Plot the dataset.\n",
    "plt.title('The dataset')\n",
    "plt.imshow(dataset)\n",
    "plt.colorbar()\n",
    "plt.xticks([])\n",
    "plt.yticks([])\n",
    "plt.show()"
   ],
   "outputs": [
    {
     "output_type": "display_data",
     "data": {
      "image/png": "[encoded data removed]",
      "text/plain": [
       "<Figure size 432x288 with 2 Axes>"
      ]
     },
     "metadata": {
      "needs_background": "light"
     }
    }
   ],
   "metadata": {}
  },
  {
   "cell_type": "markdown",
   "source": [
    "## Compute the SSV"
   ],
   "metadata": {}
  },
  {
   "cell_type": "code",
   "execution_count": 6,
   "source": [
    "# Compute the SSV.\n",
    "C, D = wsingular.sinkhorn_singular_vectors(\n",
    "    dataset,\n",
    "    eps=5e-2,\n",
    "    dtype=dtype,\n",
    "    device=device,\n",
    "    n_iter=100,\n",
    "    progress_bar=True,\n",
    ")"
   ],
   "outputs": [
    {
     "output_type": "stream",
     "name": "stderr",
     "text": []
    }
   ],
   "metadata": {}
  },
  {
   "cell_type": "code",
   "execution_count": 7,
   "source": [
    "# Display the SSV.\n",
    "fig, axes = plt.subplots(1, 2, figsize=(10, 5))\n",
    "fig.suptitle('Sinkhorn Singular Vectors')\n",
    "\n",
    "axes[0].set_title('Distance between samples.')\n",
    "axes[0].imshow(D)\n",
    "axes[0].set_xticks(range(0, n_samples, 5))\n",
    "axes[0].set_yticks(range(0, n_samples, 5))\n",
    "\n",
    "axes[1].set_title('Distance between features.')\n",
    "axes[1].imshow(C)\n",
    "axes[1].set_xticks(range(0, n_features, 5))\n",
    "axes[1].set_yticks(range(0, n_features, 5))\n",
    "\n",
    "plt.show()"
   ],
   "outputs": [
    {
     "output_type": "display_data",
     "data": {
      "image/png": "[encoded data removed]",
      "text/plain": [
       "<Figure size 720x360 with 2 Axes>"
      ]
     },
     "metadata": {
      "needs_background": "light"
     }
    }
   ],
   "metadata": {}
  },
  {
   "cell_type": "code",
   "execution_count": null,
   "source": [],
   "outputs": [],
   "metadata": {}
  }
 ],
 "metadata": {
  "orig_nbformat": 4,
  "language_info": {
   "name": "python",
   "version": "3.8.5",
   "mimetype": "text/x-python",
   "codemirror_mode": {
    "name": "ipython",
    "version": 3
   },
   "pygments_lexer": "ipython3",
   "nbconvert_exporter": "python",
   "file_extension": ".py"
  },
  "kernelspec": {
   "name": "python3",
   "display_name": "Python 3.8.5 64-bit ('base': conda)"
  },
  "interpreter": {
   "hash": "0bbb79805e160b9a386126d782961d35b74be8ad2fd67e519c2698cde08d84ae"
  }
 },
 "nbformat": 4,
 "nbformat_minor": 2
}